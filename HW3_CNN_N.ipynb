{
  "nbformat": 4,
  "nbformat_minor": 0,
  "metadata": {
    "colab": {
      "name": "HW3_CNN_N",
      "provenance": [],
      "collapsed_sections": [],
      "mount_file_id": "1eQnCj_dt6LtPjwG9Gt8-MU4d6YUi-scg",
      "authorship_tag": "ABX9TyOezNy72zHLVfoPp+yBXRfd",
      "include_colab_link": true
    },
    "kernelspec": {
      "name": "python3",
      "display_name": "Python 3"
    }
  },
  "cells": [
    {
      "cell_type": "markdown",
      "metadata": {
        "id": "view-in-github",
        "colab_type": "text"
      },
      "source": [
        "<a href=\"https://colab.research.google.com/github/asmali1326/DeepLearning/blob/main/HW3_CNN_N.ipynb\" target=\"_parent\"><img src=\"https://colab.research.google.com/assets/colab-badge.svg\" alt=\"Open In Colab\"/></a>"
      ]
    },
    {
      "cell_type": "markdown",
      "metadata": {
        "id": "RO3u-NP5FtSi"
      },
      "source": [
        "Downloading the CIFAR-10 dataset "
      ]
    },
    {
      "cell_type": "code",
      "metadata": {
        "id": "jsvLwKl-xFif",
        "outputId": "0f539b2c-5e0e-43af-dc6e-ab8bba5ba4e9",
        "colab": {
          "base_uri": "https://localhost:8080/",
          "height": 0
        }
      },
      "source": [
        "from keras.utils import to_categorical\n",
        "from keras.datasets import cifar10\n",
        "\n",
        "(x_train, y_train), (x_test, y_test) = cifar10.load_data()"
      ],
      "execution_count": 1,
      "outputs": [
        {
          "output_type": "stream",
          "text": [
            "Downloading data from https://www.cs.toronto.edu/~kriz/cifar-10-python.tar.gz\n",
            "170500096/170498071 [==============================] - 11s 0us/step\n"
          ],
          "name": "stdout"
        }
      ]
    },
    {
      "cell_type": "markdown",
      "metadata": {
        "id": "NbTHI7MDrMDx"
      },
      "source": [
        "The ten classes in CIFAR-10 dataset are the following:\n",
        "\n",
        "`Classes: ['airplane','automobile','bird','cat','deer','dog','frog','horse','ship','truck']`"
      ]
    },
    {
      "cell_type": "markdown",
      "metadata": {
        "id": "mP-c4i4nF2qg"
      },
      "source": [
        "Plotting one of the training example and printing it's size"
      ]
    },
    {
      "cell_type": "code",
      "metadata": {
        "id": "j3m1FHKt0aC2",
        "outputId": "8857d9c8-c72d-4f46-b1f0-65685cc89932",
        "colab": {
          "base_uri": "https://localhost:8080/",
          "height": 283
        }
      },
      "source": [
        "import matplotlib.pyplot as plt\n",
        "plt.imshow(x_train[2])\n",
        "x_train[0].shape"
      ],
      "execution_count": null,
      "outputs": [
        {
          "output_type": "execute_result",
          "data": {
            "text/plain": [
              "(32, 32, 3)"
            ]
          },
          "metadata": {
            "tags": []
          },
          "execution_count": 4
        },
        {
          "output_type": "display_data",
          "data": {
            "image/png": "[encoded data removed]",
            "text/plain": [
              "<Figure size 432x288 with 1 Axes>"
            ]
          },
          "metadata": {
            "tags": [],
            "needs_background": "light"
          }
        }
      ]
    },
    {
      "cell_type": "code",
      "metadata": {
        "id": "W3AbZ1-T166O",
        "outputId": "98f2bd41-25cd-4fc2-df0f-1eafd72c275e",
        "colab": {
          "base_uri": "https://localhost:8080/"
        }
      },
      "source": [
        "len(x_test)"
      ],
      "execution_count": null,
      "outputs": [
        {
          "output_type": "execute_result",
          "data": {
            "text/plain": [
              "10000"
            ]
          },
          "metadata": {
            "tags": []
          },
          "execution_count": 25
        }
      ]
    },
    {
      "cell_type": "code",
      "metadata": {
        "id": "MXgugF_Cq4dR",
        "outputId": "11346710-013c-46ce-ceac-5989463b2e41",
        "colab": {
          "base_uri": "https://localhost:8080/"
        }
      },
      "source": [
        "y_train[4]"
      ],
      "execution_count": null,
      "outputs": [
        {
          "output_type": "execute_result",
          "data": {
            "text/plain": [
              "array([1], dtype=uint8)"
            ]
          },
          "metadata": {
            "tags": []
          },
          "execution_count": 55
        }
      ]
    },
    {
      "cell_type": "code",
      "metadata": {
        "id": "92Dng9Gu06UP"
      },
      "source": [
        "x_train = x_train.reshape(50000,32,32,3)\n",
        "x_test = x_test.reshape(10000,32,32,3)"
      ],
      "execution_count": 2,
      "outputs": []
    },
    {
      "cell_type": "code",
      "metadata": {
        "id": "WT-slIerGdhu"
      },
      "source": [
        "x_test"
      ],
      "execution_count": null,
      "outputs": []
    },
    {
      "cell_type": "markdown",
      "metadata": {
        "id": "5XHdYoFjPN9T"
      },
      "source": [
        "For part 3, trying after normalizing the data by subtracting the mean and dividing by the standard deviation."
      ]
    },
    {
      "cell_type": "code",
      "metadata": {
        "id": "BvrMzLF0X7GG"
      },
      "source": [
        "mean = x_train.mean(axis=0)\n",
        "x_train = x_train.astype('float64')\n",
        "x_train -= mean\n",
        "std = x_train.std(axis=0)\n",
        "x_train /= std\n",
        "\n",
        "x_test = x_test.astype('float64')\n",
        "x_test -= mean\n",
        "x_test /= std"
      ],
      "execution_count": 3,
      "outputs": []
    },
    {
      "cell_type": "markdown",
      "metadata": {
        "id": "KHnCebHKexhJ"
      },
      "source": [
        "Checking the mean subtracted and divided by standard deviation values."
      ]
    },
    {
      "cell_type": "code",
      "metadata": {
        "id": "LrFktUSaeY_5"
      },
      "source": [
        "x_test"
      ],
      "execution_count": null,
      "outputs": []
    },
    {
      "cell_type": "markdown",
      "metadata": {
        "id": "z1m48opIe6M9"
      },
      "source": [
        "Turining the labels into categorical"
      ]
    },
    {
      "cell_type": "code",
      "metadata": {
        "id": "eQrBT_Ql2igl",
        "outputId": "3ed0d76c-40a5-4a04-afa4-18a26f1e3ea5",
        "colab": {
          "base_uri": "https://localhost:8080/",
          "height": 0
        }
      },
      "source": [
        "from keras.utils import to_categorical\n",
        "\n",
        "y_train = to_categorical(y_train)\n",
        "y_test = to_categorical(y_test)\n",
        "y_train[0]"
      ],
      "execution_count": 4,
      "outputs": [
        {
          "output_type": "execute_result",
          "data": {
            "text/plain": [
              "array([0., 0., 0., 0., 0., 0., 1., 0., 0., 0.], dtype=float32)"
            ]
          },
          "metadata": {
            "tags": []
          },
          "execution_count": 4
        }
      ]
    },
    {
      "cell_type": "code",
      "metadata": {
        "id": "Z7LdZ63nTiZx"
      },
      "source": [
        "from keras import layers\n",
        "from keras import models\n",
        "from tensorflow.keras import initializers\n",
        "\n",
        "model = models.Sequential()\n",
        "model.add(layers.Conv2D(32, (3, 3), activation='relu', input_shape=(32, 32, 3)))\n",
        "model.add(layers.BatchNormalization())\n",
        "model.add(layers.MaxPooling2D((2, 2)))\n",
        "model.add(layers.BatchNormalization())\n",
        "\n",
        "model.add(layers.Conv2D(64, (3, 3), activation='relu'))\n",
        "model.add(layers.BatchNormalization())\n",
        "model.add(layers.MaxPooling2D((2, 2)))\n",
        "\n",
        "\n",
        "model.add(layers.BatchNormalization())\n",
        "model.add(layers.Conv2D(64, (3, 3), activation='relu'))\n",
        "model.add(layers.BatchNormalization())\n",
        "model.add(layers.Flatten())\n",
        "\n",
        "# init = initializers.GlorotUniform()\n",
        "# values = init(shape=(2, 2))\n",
        "\n",
        "model.add(layers.Dense(64, kernel_initializer='random_normal', activation='relu'))\n",
        "# model.add(layers.Dropout(rate=0.5))\n",
        "model.add(layers.BatchNormalization())\n",
        "model.add(layers.Dense(10, activation='softmax'))"
      ],
      "execution_count": 16,
      "outputs": []
    },
    {
      "cell_type": "markdown",
      "metadata": {
        "id": "mCiJOhZmXNI8"
      },
      "source": [
        "Batch Normalization Ref:https://keras.io/api/layers/normalization_layers/batch_normalization/\n",
        "\n",
        "\n",
        "Note on dropout layer:\n",
        "`keras.layers.Dropout(rate, noise_shape=None, seed=None)`\n",
        "Rate: the parameter p which determines the odds of dropping out neurons. When you did not validate which p works best for you with a validation set,\n",
        "it’s best to set it to rate≈0.5 for hidden layers and rate≈0.1 for the input layer (note that rate≈0.1 equals p≈0.9 – Keras turns the logic upside down, making rate the odds of dropping out rather than keeping neurons!)\n",
        "DropOut Ref:https://www.machinecurve.com/index.php/2019/12/18/how-to-use-dropout-with-keras/\n"
      ]
    },
    {
      "cell_type": "markdown",
      "metadata": {
        "id": "XnVlyjxbPwqE"
      },
      "source": [
        "For part 6, using stochastic gradient descent "
      ]
    },
    {
      "cell_type": "code",
      "metadata": {
        "id": "heH6uVFHiWaE"
      },
      "source": [
        "from tensorflow.keras import optimizers\n",
        "OPT = optimizers.SGD(learning_rate=0.001, momentum=0.9, nesterov=True, name=\"SGD\")"
      ],
      "execution_count": 6,
      "outputs": []
    },
    {
      "cell_type": "markdown",
      "metadata": {
        "id": "-9sWV5qGi6AD"
      },
      "source": [
        "https://keras.io/api/optimizers/sgd/"
      ]
    },
    {
      "cell_type": "code",
      "metadata": {
        "id": "Fqcr4rWicKRX",
        "outputId": "9fa92897-4c33-4ee5-8499-7b046073a2a1",
        "colab": {
          "base_uri": "https://localhost:8080/",
          "height": 0
        }
      },
      "source": [
        "model.compile(optimizer=OPT,loss='categorical_crossentropy',metrics=['accuracy'])\n",
        "hist = model.fit(x_train, y_train,epochs=15, batch_size=512)\n",
        "# model.fit(x_train, y_train, validation_data=(x_test,y_test),epochs=3, batch_size=128)"
      ],
      "execution_count": 17,
      "outputs": [
        {
          "output_type": "stream",
          "text": [
            "Epoch 1/15\n",
            "98/98 [==============================] - 76s 772ms/step - loss: 2.1121 - accuracy: 0.2834\n",
            "Epoch 2/15\n",
            "98/98 [==============================] - 76s 776ms/step - loss: 1.6821 - accuracy: 0.4022\n",
            "Epoch 3/15\n",
            "98/98 [==============================] - 76s 778ms/step - loss: 1.5361 - accuracy: 0.4557\n",
            "Epoch 4/15\n",
            "98/98 [==============================] - 76s 777ms/step - loss: 1.4357 - accuracy: 0.4909\n",
            "Epoch 5/15\n",
            "98/98 [==============================] - 78s 794ms/step - loss: 1.3574 - accuracy: 0.5203\n",
            "Epoch 6/15\n",
            "98/98 [==============================] - 77s 783ms/step - loss: 1.2940 - accuracy: 0.5453\n",
            "Epoch 7/15\n",
            "98/98 [==============================] - 79s 804ms/step - loss: 1.2415 - accuracy: 0.5632\n",
            "Epoch 8/15\n",
            "98/98 [==============================] - 76s 778ms/step - loss: 1.1972 - accuracy: 0.5807\n",
            "Epoch 9/15\n",
            "98/98 [==============================] - 76s 781ms/step - loss: 1.1564 - accuracy: 0.5950\n",
            "Epoch 10/15\n",
            "98/98 [==============================] - 77s 782ms/step - loss: 1.1233 - accuracy: 0.6065\n",
            "Epoch 11/15\n",
            "98/98 [==============================] - 77s 781ms/step - loss: 1.0912 - accuracy: 0.6177\n",
            "Epoch 12/15\n",
            "98/98 [==============================] - 76s 777ms/step - loss: 1.0624 - accuracy: 0.6301\n",
            "Epoch 13/15\n",
            "98/98 [==============================] - 76s 779ms/step - loss: 1.0367 - accuracy: 0.6387\n",
            "Epoch 14/15\n",
            "98/98 [==============================] - 76s 779ms/step - loss: 1.0135 - accuracy: 0.6468\n",
            "Epoch 15/15\n",
            "98/98 [==============================] - 79s 805ms/step - loss: 0.9903 - accuracy: 0.6552\n"
          ],
          "name": "stdout"
        }
      ]
    },
    {
      "cell_type": "code",
      "metadata": {
        "id": "f5y3j8Z_MdLP"
      },
      "source": [
        "model.predict(x_test[:1])"
      ],
      "execution_count": null,
      "outputs": []
    },
    {
      "cell_type": "code",
      "metadata": {
        "id": "_0CGrsZAQEnV",
        "outputId": "34e6a0ec-9179-429b-bdcf-41b1c36598a6",
        "colab": {
          "base_uri": "https://localhost:8080/"
        }
      },
      "source": [
        "y_test[:1]"
      ],
      "execution_count": null,
      "outputs": [
        {
          "output_type": "execute_result",
          "data": {
            "text/plain": [
              "array([[0., 0., 0., 1., 0., 0., 0., 0., 0., 0.]], dtype=float32)"
            ]
          },
          "metadata": {
            "tags": []
          },
          "execution_count": 73
        }
      ]
    },
    {
      "cell_type": "code",
      "metadata": {
        "id": "rHw8NRT4PgHb",
        "outputId": "8962f789-4548-4529-f8e2-61ab186d3749",
        "colab": {
          "base_uri": "https://localhost:8080/",
          "height": 0
        }
      },
      "source": [
        "test_loss, test_acc = model.evaluate(x_test,y_test)"
      ],
      "execution_count": 18,
      "outputs": [
        {
          "output_type": "stream",
          "text": [
            "313/313 [==============================] - 5s 15ms/step - loss: 1.1066 - accuracy: 0.6147\n"
          ],
          "name": "stdout"
        }
      ]
    },
    {
      "cell_type": "markdown",
      "metadata": {
        "id": "VIrlhZWFqlN7"
      },
      "source": [
        "To plot the accuracy and loss curves"
      ]
    },
    {
      "cell_type": "code",
      "metadata": {
        "id": "ap-zsl3Iqkin"
      },
      "source": [
        "hist.history['loss']"
      ],
      "execution_count": null,
      "outputs": []
    },
    {
      "cell_type": "code",
      "metadata": {
        "id": "cutVMiPEvC1W",
        "outputId": "fc031f2a-4280-4526-c8df-2814e35b3272",
        "colab": {
          "base_uri": "https://localhost:8080/",
          "height": 295
        }
      },
      "source": [
        "import matplotlib.pyplot as plt\n",
        "loss = hist.history['loss']\n",
        "plt.plot(range(1, len(loss) + 1), loss)\n",
        "plt.xlabel('Epochs')\n",
        "plt.ylabel('Loss')\n",
        "plt.title('Loss versus epoch with SGD and batchsize 512')\n",
        "# plt.title('Hidden layers = {:.0f} and relu'.format(node_h))\n",
        "plt.show()"
      ],
      "execution_count": 19,
      "outputs": [
        {
          "output_type": "display_data",
          "data": {
            "image/png": "[encoded data removed]",
            "text/plain": [
              "<Figure size 432x288 with 1 Axes>"
            ]
          },
          "metadata": {
            "tags": [],
            "needs_background": "light"
          }
        }
      ]
    },
    {
      "cell_type": "code",
      "metadata": {
        "id": "W0LfzpWAQVct",
        "outputId": "cc3559f2-fcf3-459b-e7a2-942c2f90113b",
        "colab": {
          "base_uri": "https://localhost:8080/",
          "height": 295
        }
      },
      "source": [
        "acc = hist.history['accuracy']\n",
        "plt.plot(range(1, len(acc) + 1), acc)\n",
        "plt.xlabel('Epochs')\n",
        "plt.ylabel('Accuracy')\n",
        "plt.title('Accuracy versus epoch with SGD and batch size 512')\n",
        "plt.show()"
      ],
      "execution_count": 20,
      "outputs": [
        {
          "output_type": "display_data",
          "data": {
            "image/png": "[encoded data removed]",
            "text/plain": [
              "<Figure size 432x288 with 1 Axes>"
            ]
          },
          "metadata": {
            "tags": [],
            "needs_background": "light"
          }
        }
      ]
    },
    {
      "cell_type": "markdown",
      "metadata": {
        "id": "CKpgL49A0mL5"
      },
      "source": [
        "https://missinglink.ai/guides/neural-network-concepts/convolutional-neural-network-build-one-keras-pytorch/\n",
        "\n",
        "https://jovian.ml/rksensational/03-cifar10-feedforward/v/6?utm_source=embed#C5"
      ]
    }
  ]
}